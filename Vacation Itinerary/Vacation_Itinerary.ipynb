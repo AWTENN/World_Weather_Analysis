{
 "cells": [
  {
   "cell_type": "markdown",
   "source": [
    "## Deliverable 3. Create a Travel Itinerary Map."
   ],
   "metadata": {}
  },
  {
   "cell_type": "code",
   "execution_count": 109,
   "source": [
    "# Dependencies and Setup\r\n",
    "import pandas as pd\r\n",
    "import requests\r\n",
    "import gmaps\r\n",
    "\r\n",
    "# Import API key\r\n",
    "from config3 import gkey\r\n",
    "\r\n",
    "# Configure gmaps\r\n",
    "gmaps.configure(api_key=gkey)"
   ],
   "outputs": [],
   "metadata": {}
  },
  {
   "cell_type": "code",
   "execution_count": 110,
   "source": [
    "# 1. Read the WeatherPy_vacation.csv into a DataFrame.\r\n",
    "vacation_df = pd.read_csv(\"../Vacation_Search/HOTELMOTEL.csv\")\r\n",
    "vacation_df.head()"
   ],
   "outputs": [
    {
     "output_type": "execute_result",
     "data": {
      "text/html": [
       "<div>\n",
       "<style scoped>\n",
       "    .dataframe tbody tr th:only-of-type {\n",
       "        vertical-align: middle;\n",
       "    }\n",
       "\n",
       "    .dataframe tbody tr th {\n",
       "        vertical-align: top;\n",
       "    }\n",
       "\n",
       "    .dataframe thead th {\n",
       "        text-align: right;\n",
       "    }\n",
       "</style>\n",
       "<table border=\"1\" class=\"dataframe\">\n",
       "  <thead>\n",
       "    <tr style=\"text-align: right;\">\n",
       "      <th></th>\n",
       "      <th>City_ID</th>\n",
       "      <th>City</th>\n",
       "      <th>Country</th>\n",
       "      <th>Max Temp</th>\n",
       "      <th>Current Description</th>\n",
       "      <th>Lat</th>\n",
       "      <th>Lng</th>\n",
       "      <th>Hotel Name</th>\n",
       "    </tr>\n",
       "  </thead>\n",
       "  <tbody>\n",
       "    <tr>\n",
       "      <th>0</th>\n",
       "      <td>2</td>\n",
       "      <td>East London</td>\n",
       "      <td>ZA</td>\n",
       "      <td>58.73</td>\n",
       "      <td>clear sky</td>\n",
       "      <td>-33.0153</td>\n",
       "      <td>27.9116</td>\n",
       "      <td>Tu Casa</td>\n",
       "    </tr>\n",
       "    <tr>\n",
       "      <th>1</th>\n",
       "      <td>5</td>\n",
       "      <td>Port Macquarie</td>\n",
       "      <td>AU</td>\n",
       "      <td>58.96</td>\n",
       "      <td>overcast clouds</td>\n",
       "      <td>-31.4333</td>\n",
       "      <td>152.9167</td>\n",
       "      <td>Rydges Port Macquarie</td>\n",
       "    </tr>\n",
       "    <tr>\n",
       "      <th>2</th>\n",
       "      <td>7</td>\n",
       "      <td>Port Elizabeth</td>\n",
       "      <td>ZA</td>\n",
       "      <td>62.10</td>\n",
       "      <td>clear sky</td>\n",
       "      <td>-33.9180</td>\n",
       "      <td>25.5701</td>\n",
       "      <td>39 On Nile Guest House</td>\n",
       "    </tr>\n",
       "    <tr>\n",
       "      <th>3</th>\n",
       "      <td>9</td>\n",
       "      <td>Jamestown</td>\n",
       "      <td>US</td>\n",
       "      <td>67.32</td>\n",
       "      <td>clear sky</td>\n",
       "      <td>42.0970</td>\n",
       "      <td>-79.2353</td>\n",
       "      <td>Hampton Inn &amp; Suites Jamestown</td>\n",
       "    </tr>\n",
       "    <tr>\n",
       "      <th>4</th>\n",
       "      <td>12</td>\n",
       "      <td>Constitucion</td>\n",
       "      <td>CL</td>\n",
       "      <td>62.29</td>\n",
       "      <td>few clouds</td>\n",
       "      <td>-35.3333</td>\n",
       "      <td>-72.4167</td>\n",
       "      <td>Hotel Boutique Las Azucenas</td>\n",
       "    </tr>\n",
       "  </tbody>\n",
       "</table>\n",
       "</div>"
      ],
      "text/plain": [
       "   City_ID            City Country  Max Temp Current Description      Lat  \\\n",
       "0        2     East London      ZA     58.73           clear sky -33.0153   \n",
       "1        5  Port Macquarie      AU     58.96     overcast clouds -31.4333   \n",
       "2        7  Port Elizabeth      ZA     62.10           clear sky -33.9180   \n",
       "3        9       Jamestown      US     67.32           clear sky  42.0970   \n",
       "4       12    Constitucion      CL     62.29          few clouds -35.3333   \n",
       "\n",
       "        Lng                      Hotel Name  \n",
       "0   27.9116                         Tu Casa  \n",
       "1  152.9167           Rydges Port Macquarie  \n",
       "2   25.5701          39 On Nile Guest House  \n",
       "3  -79.2353  Hampton Inn & Suites Jamestown  \n",
       "4  -72.4167     Hotel Boutique Las Azucenas  "
      ]
     },
     "metadata": {},
     "execution_count": 110
    }
   ],
   "metadata": {}
  },
  {
   "cell_type": "code",
   "execution_count": 111,
   "source": [
    "# 2. Using the template add the city name, the country code, the weather description and maximum temperature for the city.\r\n",
    "info_box_template = \"\"\"dd>\r\n",
    "<dt>City</dt><dd>{City}</dd>\r\n",
    "<dt>Country</dt><dd>{Country}</dd>\r\n",
    "<dt>Current Description</dt><dd>{Current Description}</dd>\r\n",
    "<dt>Max Temp</dt><dd>{Max Temp} °F</dd>\r\n",
    "</dl>\r\n",
    "\"\"\"\r\n",
    "\r\n",
    "# 3a. Get the data from each row and add it to the formatting template and store the data in a list.\r\n",
    "hotel_info = [info_box_template.format(**row) for index, row in vacation_df.iterrows()]\r\n",
    "\r\n",
    "# 3b. Get the latitude and longitude from each row and store in a new DataFrame.\r\n",
    "locations = vacation_df[[\"Lat\", \"Lng\"]]"
   ],
   "outputs": [],
   "metadata": {}
  },
  {
   "cell_type": "code",
   "execution_count": 112,
   "source": [
    "# 4a. Add a marker layer for each city to the map.\r\n",
    "max_temp = vacation_df[\"Max Temp\"]\r\n",
    "fig = gmaps.figure(center=(30.0, 31.0), zoom_level=1.5)\r\n",
    "marker_layer = gmaps.marker_layer(locations, info_box_content=hotel_info)\r\n",
    "fig.add_layer(marker_layer)\r\n",
    "# 4b. Display the figure\r\n",
    "fig\r\n"
   ],
   "outputs": [
    {
     "output_type": "display_data",
     "data": {
      "application/vnd.jupyter.widget-view+json": {
       "version_major": 2,
       "version_minor": 0,
       "model_id": "5e1912e2f4f7407aab2b3616c27cb5fd"
      },
      "text/plain": [
       "Figure(layout=FigureLayout(height='420px'))"
      ]
     },
     "metadata": {}
    }
   ],
   "metadata": {}
  },
  {
   "cell_type": "code",
   "execution_count": 113,
   "source": [
    "# From the map above pick 4 cities and create a vacation itinerary route to travel between the four cities. \r\n",
    "# 5. Create DataFrames for each city by filtering the 'vacation_df' using the loc method. \r\n",
    "# Hint: The starting and ending city should be the same city.\r\n",
    "\r\n",
    "vacation_start = vacation_df.loc[vacation_df['City'] =='Morehead']\r\n",
    "vacation_end = vacation_df.loc[vacation_df['City'] =='Morehead']\r\n",
    "vacation_stop1 = vacation_df.loc[vacation_df['City'] =='Espanola']\r\n",
    "vacation_stop2 = vacation_df.loc[vacation_df['City'] =='San Quintin'] \r\n",
    "vacation_stop3 = vacation_df.loc[vacation_df['City'] =='Redmond'] \r\n"
   ],
   "outputs": [],
   "metadata": {}
  },
  {
   "cell_type": "code",
   "execution_count": 114,
   "source": [
    "# 6. Get the latitude-longitude pairs as tuples from each city DataFrame using the to_numpy function and list indexing\r\n",
    "start = list(vacation_start.to_numpy()[0,5:7])\r\n",
    "end = list(vacation_end.to_numpy()[0,5:7])\r\n",
    "stop1 = list(vacation_stop1.to_numpy()[0,5:7])\r\n",
    "stop2 = list(vacation_stop2.to_numpy()[0,5:7])\r\n",
    "stop3 = list(vacation_stop3.to_numpy()[0,5:7])\r\n",
    "start"
   ],
   "outputs": [
    {
     "output_type": "execute_result",
     "data": {
      "text/plain": [
       "[37.2711, -87.1764]"
      ]
     },
     "metadata": {},
     "execution_count": 114
    }
   ],
   "metadata": {}
  },
  {
   "cell_type": "code",
   "execution_count": 119,
   "source": [
    "# 7. Create a direction layer map using the start and end latitude-longitude pairs,\r\n",
    "# and stop1, stop2, and stop3 as the waypoints. The travel_mode should be \"DRIVING\", \"BICYCLING\", or \"WALKING\".\r\n",
    "fig1 = gmaps.figure()\r\n",
    "itinerary_map = gmaps.directions_layer(\r\n",
    "    start, end, waypoints = [stop1,stop2,stop3], show_markers=False,\r\n",
    "    stroke_color='red', stroke_weight=3.0, stroke_opacity=1.0)\r\n",
    "fig1.add_layer(itinerary_map)\r\n",
    "fig1\r\n"
   ],
   "outputs": [
    {
     "output_type": "display_data",
     "data": {
      "application/vnd.jupyter.widget-view+json": {
       "version_major": 2,
       "version_minor": 0,
       "model_id": "3fcbc328c3fe45098e158a4b1166afe1"
      },
      "text/plain": [
       "Figure(layout=FigureLayout(height='420px'))"
      ]
     },
     "metadata": {}
    }
   ],
   "metadata": {
    "scrolled": true
   }
  },
  {
   "cell_type": "code",
   "execution_count": 116,
   "source": [
    "# 8. To create a marker layer map between the four cities.\r\n",
    "#  Combine the four city DataFrames into one DataFrame using the concat() function.\r\n",
    "itinerary_df = pd.concat([vacation_start,vacation_stop1,vacation_stop2,vacation_stop3],ignore_index=True)\r\n",
    "itinerary_df"
   ],
   "outputs": [
    {
     "output_type": "execute_result",
     "data": {
      "text/html": [
       "<div>\n",
       "<style scoped>\n",
       "    .dataframe tbody tr th:only-of-type {\n",
       "        vertical-align: middle;\n",
       "    }\n",
       "\n",
       "    .dataframe tbody tr th {\n",
       "        vertical-align: top;\n",
       "    }\n",
       "\n",
       "    .dataframe thead th {\n",
       "        text-align: right;\n",
       "    }\n",
       "</style>\n",
       "<table border=\"1\" class=\"dataframe\">\n",
       "  <thead>\n",
       "    <tr style=\"text-align: right;\">\n",
       "      <th></th>\n",
       "      <th>City_ID</th>\n",
       "      <th>City</th>\n",
       "      <th>Country</th>\n",
       "      <th>Max Temp</th>\n",
       "      <th>Current Description</th>\n",
       "      <th>Lat</th>\n",
       "      <th>Lng</th>\n",
       "      <th>Hotel Name</th>\n",
       "    </tr>\n",
       "  </thead>\n",
       "  <tbody>\n",
       "    <tr>\n",
       "      <th>0</th>\n",
       "      <td>364</td>\n",
       "      <td>Morehead</td>\n",
       "      <td>US</td>\n",
       "      <td>74.30</td>\n",
       "      <td>clear sky</td>\n",
       "      <td>37.2711</td>\n",
       "      <td>-87.1764</td>\n",
       "      <td>CCI Express Inn</td>\n",
       "    </tr>\n",
       "    <tr>\n",
       "      <th>1</th>\n",
       "      <td>559</td>\n",
       "      <td>Espanola</td>\n",
       "      <td>US</td>\n",
       "      <td>67.28</td>\n",
       "      <td>clear sky</td>\n",
       "      <td>35.9911</td>\n",
       "      <td>-106.0806</td>\n",
       "      <td>Santa Claran Hotel Casino</td>\n",
       "    </tr>\n",
       "    <tr>\n",
       "      <th>2</th>\n",
       "      <td>163</td>\n",
       "      <td>San Quintin</td>\n",
       "      <td>MX</td>\n",
       "      <td>66.11</td>\n",
       "      <td>clear sky</td>\n",
       "      <td>30.4833</td>\n",
       "      <td>-115.9500</td>\n",
       "      <td>Don Eddie's Sport Fishing Center</td>\n",
       "    </tr>\n",
       "    <tr>\n",
       "      <th>3</th>\n",
       "      <td>655</td>\n",
       "      <td>Redmond</td>\n",
       "      <td>US</td>\n",
       "      <td>64.24</td>\n",
       "      <td>few clouds</td>\n",
       "      <td>47.6740</td>\n",
       "      <td>-122.1215</td>\n",
       "      <td>Seattle Marriott Redmond</td>\n",
       "    </tr>\n",
       "  </tbody>\n",
       "</table>\n",
       "</div>"
      ],
      "text/plain": [
       "   City_ID         City Country  Max Temp Current Description      Lat  \\\n",
       "0      364     Morehead      US     74.30           clear sky  37.2711   \n",
       "1      559     Espanola      US     67.28           clear sky  35.9911   \n",
       "2      163  San Quintin      MX     66.11           clear sky  30.4833   \n",
       "3      655      Redmond      US     64.24          few clouds  47.6740   \n",
       "\n",
       "        Lng                        Hotel Name  \n",
       "0  -87.1764                   CCI Express Inn  \n",
       "1 -106.0806         Santa Claran Hotel Casino  \n",
       "2 -115.9500  Don Eddie's Sport Fishing Center  \n",
       "3 -122.1215          Seattle Marriott Redmond  "
      ]
     },
     "metadata": {},
     "execution_count": 116
    }
   ],
   "metadata": {}
  },
  {
   "cell_type": "code",
   "execution_count": 117,
   "source": [
    "# 9 Using the template add city name, the country code, the weather description and maximum temperature for the city. \r\n",
    "info_box_template = \"\"\"d>\r\n",
    "<dt>City</dt><dd>{City}</dd>\r\n",
    "<dt>Country</dt><dd>{Country}</dd>\r\n",
    "<dt>Current Description</dt><dd>{Current Description}</dd>\r\n",
    "<dt>Max Temp</dt><dd>{Max Temp} °F</dd>\r\n",
    "</dl>\r\n",
    "\"\"\"\r\n",
    "\r\n",
    "# 10a Get the data from each row and add it to the formatting template and store the data in a list.\r\n",
    "hotel_info = [info_box_template.format(**row) for index, row in itinerary_df.iterrows()]\r\n",
    "\r\n",
    "# 10b. Get the latitude and longitude from each row and store in a new DataFrame.\r\n",
    "locations = itinerary_df[[\"Lat\", \"Lng\"]]"
   ],
   "outputs": [],
   "metadata": {}
  },
  {
   "cell_type": "code",
   "execution_count": 118,
   "source": [
    "# 11a. Add a marker layer for each city to the map.\r\n",
    "max_temp = vacation_df[\"Max Temp\"]\r\n",
    "fig2 = gmaps.figure()\r\n",
    "marker_layer = gmaps.marker_layer(locations, info_box_content=hotel_info)\r\n",
    "fig2.add_layer(marker_layer)\r\n",
    "# 11b. Display the figure\r\n",
    "fig2"
   ],
   "outputs": [
    {
     "output_type": "display_data",
     "data": {
      "application/vnd.jupyter.widget-view+json": {
       "version_major": 2,
       "version_minor": 0,
       "model_id": "d751d171da6f4780a5d468f86339ace3"
      },
      "text/plain": [
       "Figure(layout=FigureLayout(height='420px'))"
      ]
     },
     "metadata": {}
    }
   ],
   "metadata": {}
  },
  {
   "cell_type": "code",
   "execution_count": null,
   "source": [],
   "outputs": [],
   "metadata": {}
  }
 ],
 "metadata": {
  "kernelspec": {
   "name": "python3",
   "display_name": "Python 3.7.10 64-bit ('PythonData': conda)"
  },
  "language_info": {
   "codemirror_mode": {
    "name": "ipython",
    "version": 3
   },
   "file_extension": ".py",
   "mimetype": "text/x-python",
   "name": "python",
   "nbconvert_exporter": "python",
   "pygments_lexer": "ipython3",
   "version": "3.7.10"
  },
  "latex_envs": {
   "LaTeX_envs_menu_present": true,
   "autoclose": false,
   "autocomplete": true,
   "bibliofile": "biblio.bib",
   "cite_by": "apalike",
   "current_citInitial": 1,
   "eqLabelWithNumbers": true,
   "eqNumInitial": 1,
   "hotkeys": {
    "equation": "Ctrl-E",
    "itemize": "Ctrl-I"
   },
   "labels_anchors": false,
   "latex_user_defs": false,
   "report_style_numbering": false,
   "user_envs_cfg": false
  },
  "interpreter": {
   "hash": "b1e4705f7323d05c6e9c24dcabf8dac9229f93cfd19cfea30a9f3be2831ae869"
  }
 },
 "nbformat": 4,
 "nbformat_minor": 4
}