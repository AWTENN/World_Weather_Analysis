{
 "cells": [
  {
   "cell_type": "code",
   "execution_count": 1,
   "id": "6b12d603-b1f0-417e-aa65-cf19a3c66673",
   "metadata": {},
   "outputs": [],
   "source": [
    "import random\n"
   ]
  },
  {
   "cell_type": "code",
   "execution_count": 4,
   "id": "99f2306c-c563-4e82-a693-7f0d4f648d35",
   "metadata": {},
   "outputs": [
    {
     "data": {
      "text/plain": [
       "56"
      ]
     },
     "execution_count": 4,
     "metadata": {},
     "output_type": "execute_result"
    }
   ],
   "source": [
    "random.randint(-90, 90)"
   ]
  },
  {
   "cell_type": "code",
   "execution_count": 6,
   "id": "868e3d91-307d-448d-975e-b2e065198aef",
   "metadata": {},
   "outputs": [
    {
     "data": {
      "text/plain": [
       "[76.98078962894202,\n",
       " -50.58583295651453,\n",
       " -50.949433926178585,\n",
       " -70.35921585735169,\n",
       " 58.764399432220344,\n",
       " -71.78904982228869,\n",
       " -15.46979828944395,\n",
       " 34.573356492438386,\n",
       " 55.20458366069429,\n",
       " -55.75849315626502]"
      ]
     },
     "execution_count": 6,
     "metadata": {},
     "output_type": "execute_result"
    }
   ],
   "source": [
    "x = 1\n",
    "latitudes = []\n",
    "while x < 11:\n",
    "    random_lat = random.randint(-90, 89) + random.random()\n",
    "    latitudes.append(random_lat)\n",
    "    x += 1\n",
    "latitudes"
   ]
  },
  {
   "cell_type": "code",
   "execution_count": 7,
   "id": "0201a434-78e1-42ca-9b0b-7391a0929c1f",
   "metadata": {},
   "outputs": [],
   "source": [
    "# Import the NumPy module.\n",
    "import numpy as np"
   ]
  },
  {
   "cell_type": "code",
   "execution_count": 8,
   "id": "32b0fac0-74ee-4e87-8f6d-fbc10ce688e7",
   "metadata": {},
   "outputs": [
    {
     "data": {
      "text/plain": [
       "array([  1.14615698,  25.88502869,  20.85109507,   9.04526476,\n",
       "        79.74035267, -32.34204452,  24.32447581, -67.26985198,\n",
       "         4.82954671,  37.30138558,  88.92742105, -54.2752749 ,\n",
       "       -19.32772907, -47.94339389, -84.7368656 , -32.49419013,\n",
       "        56.96909847,  19.3124662 ,  73.82338713,  70.15075415,\n",
       "        13.61309861,  37.46132594, -79.6007209 , -31.226124  ,\n",
       "       -10.46698017,  75.70238012,  39.0884087 ,  36.92712397,\n",
       "        34.659143  ,  28.33362845, -11.04310216,  59.03427476,\n",
       "        14.16547202,  16.10434622, -28.91042744, -63.39679313,\n",
       "        86.43263829,  26.32316663, -27.08443706,  78.41275827,\n",
       "       -58.98559804, -31.31199805,  79.78261643, -42.10279928,\n",
       "         2.31666023, -87.04926926, -89.50440266,  68.46689655,\n",
       "       -48.84522449,  59.87904269])"
      ]
     },
     "execution_count": 8,
     "metadata": {},
     "output_type": "execute_result"
    }
   ],
   "source": [
    "np.random.uniform(-90.000, 90.000, size=50)"
   ]
  },
  {
   "cell_type": "code",
   "execution_count": 9,
   "id": "81c7d503-061f-4b8e-82ac-53fda105257d",
   "metadata": {},
   "outputs": [],
   "source": [
    "# Import timeit.\n",
    "import timeit"
   ]
  },
  {
   "cell_type": "code",
   "execution_count": 10,
   "id": "d87f7355-9d70-46f1-b919-f4542f682b76",
   "metadata": {},
   "outputs": [
    {
     "name": "stdout",
     "output_type": "stream",
     "text": [
      "45.5 µs ± 3.11 µs per loop (mean ± std. dev. of 7 runs, 10000 loops each)\n"
     ]
    }
   ],
   "source": [
    "%timeit np.random.uniform(-90.000, 90.000, size=1500)"
   ]
  },
  {
   "cell_type": "code",
   "execution_count": 11,
   "id": "7618b367-605f-464c-b7fd-36532641a79d",
   "metadata": {},
   "outputs": [
    {
     "name": "stdout",
     "output_type": "stream",
     "text": [
      "10.2 ms ± 665 µs per loop (mean ± std. dev. of 7 runs, 100 loops each)\n"
     ]
    }
   ],
   "source": [
    "def latitudes(size):\n",
    "    latitudes = []\n",
    "    x = 0\n",
    "    while x < (size):\n",
    "        random_lat = random.randint(-90, 90) + random.random()\n",
    "        latitudes.append(random_lat)\n",
    "        x += 1\n",
    "    return latitudes\n",
    "# Call the function with 1500.\n",
    "%timeit latitudes(1500)"
   ]
  },
  {
   "cell_type": "code",
   "execution_count": null,
   "id": "547a029d-6c2c-4650-abe9-86cf18b56caf",
   "metadata": {},
   "outputs": [],
   "source": []
  }
 ],
 "metadata": {
  "kernelspec": {
   "display_name": "PythonData",
   "language": "python",
   "name": "pythondata"
  },
  "language_info": {
   "codemirror_mode": {
    "name": "ipython",
    "version": 3
   },
   "file_extension": ".py",
   "mimetype": "text/x-python",
   "name": "python",
   "nbconvert_exporter": "python",
   "pygments_lexer": "ipython3",
   "version": "3.7.10"
  }
 },
 "nbformat": 4,
 "nbformat_minor": 5
}
